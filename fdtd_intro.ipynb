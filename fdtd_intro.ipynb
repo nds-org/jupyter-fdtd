{
 "cells": [
  {
   "cell_type": "markdown",
   "metadata": {},
   "source": [
    "# Finite Difference Time Domain (FDTD) Electromagnetics\n",
    "\n",
    "(lightly adapted from: Understanding the Finite-Difference Time-Domain Method, John B. Schneider, http://www.eecs.wsu.edu/~schneidj/ufdtd, 2010.)\n",
    " \n",
    "The FDTD method employs finite differences as approximations to both\n",
    "the spatial and temporal derivatives that appear in Maxwell's\n",
    "equations (specifically Ampere's and Faraday's laws). "
   ]
  },
  {
   "cell_type": "markdown",
   "metadata": {},
   "source": [
    "## Maxwell's equations\n",
    "\n",
    "Maxwell's equations in differential form are:\n",
    "\n",
    "\\begin{equation}\n",
    "\\nabla \\cdot \\mathbf{D} = \\rho \\quad \\text{(Gauss's Law)}\n",
    "\\end{equation}\n",
    "\n",
    "\\begin{equation}\n",
    "\\nabla \\cdot \\mathbf{B} = 0 \\quad \\text{(Gauss's Law for magentism)}\n",
    "\\end{equation}\n",
    "\n",
    "\n",
    "\\begin{equation}\n",
    "\\nabla \\times \\mathbf{E} = -\\frac{\\partial\\mathbf{B}}{\\partial t} \\quad \\text{(Faraday's Law)}\n",
    "\\end{equation}\n",
    "\n",
    "\\begin{equation}\n",
    "\\nabla \\times \\mathbf{H} = \\mathbf{J} + \\frac{\\partial\\mathbf{D}}{\\partial t} \\quad   \\text{(Ampere's Law)}\n",
    "\\end{equation}\n",
    "\n",
    "where: $\\mathbf{D}$ is the electric displacement field, $\\rho$ is the electric charge density, $\\mathbf{B}$ is the magnetic field, $\\mathbf{E}$ is the electric field, $\\mathbf{H}$ is the magnetizing field, and $\\mathbf{J}$ is the electric current density."
   ]
  },
  {
   "cell_type": "markdown",
   "metadata": {},
   "source": [
    "In a region with no sources and no currents, they become:\n",
    "\n",
    "\\begin{equation}\n",
    "\\nabla \\cdot \\mathbf{D} = 0\n",
    "\\end{equation}\n",
    "\n",
    "\\begin{equation}\n",
    "\\nabla \\cdot \\mathbf{B} = 0\n",
    "\\end{equation}\n",
    "\n",
    "\n",
    "\\begin{equation}\n",
    "\\nabla \\times \\mathbf{E} = -\\frac{\\partial\\mathbf{B}}{\\partial t}\n",
    "\\end{equation}\n",
    "\n",
    "\\begin{equation}\n",
    "\\nabla \\times \\mathbf{H} = \\frac{\\partial\\mathbf{D}}{\\partial t}\n",
    "\\end{equation}"
   ]
  },
  {
   "cell_type": "markdown",
   "metadata": {},
   "source": [
    "For materials without polarization and magnetization:\n",
    "\n",
    "\\begin{equation}\n",
    "\\mathbf{D} = \\epsilon \\mathbf{E}\n",
    "\\end{equation}\n",
    "\n",
    "\\begin{equation}\n",
    "\\mathbf{B} = \\mu \\mathbf{H}\n",
    "\\end{equation}\n"
   ]
  },
  {
   "cell_type": "markdown",
   "metadata": {},
   "source": [
    "And the equations become\n",
    "\n",
    "\\begin{equation}\n",
    "\\nabla \\cdot \\mathbf{E} = 0\n",
    "\\end{equation}\n",
    "\n",
    "\\begin{equation}\n",
    "\\nabla \\cdot \\mathbf{H} = 0\n",
    "\\end{equation}\n",
    "\n",
    "\n",
    "\\begin{equation}\n",
    "\\nabla \\times \\mathbf{E} = -\\mu \\frac{\\partial\\mathbf{H}}{\\partial t}\n",
    "\\end{equation}\n",
    "\n",
    "\\begin{equation}\n",
    "\\nabla \\times \\mathbf{H} = \\epsilon \\frac{\\partial\\mathbf{E}}{\\partial t}\n",
    "\\end{equation}\n",
    "\n",
    "(Note that these equations are written in terms of $\\mathbf{E}$ and $\\mathbf{H}$, the common practice in computational electromagnetics, rather than $\\mathbf{E}$ and $\\mathbf{B}$, which is common in other fields.)"
   ]
  },
  {
   "cell_type": "markdown",
   "metadata": {},
   "source": [
    "## Maxwell's equations in 1D\n",
    "\n",
    "Consider a one-dimensional space where there are only variations in\n",
    "the $x$ direction.  Assume that the electric field only has a $z$\n",
    "component.  In this case Faraday's law can be written\n",
    "\n",
    "\\begin{equation}\n",
    "  -\\mu \\frac{\\partial \\mathbf{H}}{\\partial t} =\n",
    "  \\nabla \\times \\mathbf{E} =\n",
    "  \\left|\n",
    "  \\begin{array}{ccc}\n",
    "     \\hat{\\mathbf{a}}_{x} & \\hat{\\mathbf{a}}_{y} & \\hat{\\mathbf{a}}_{z} \\\\\n",
    "     \\frac{\\partial}{\\partial x} & 0 & 0 \\\\\n",
    "     0 & 0 & E_z\n",
    "  \\end{array}\n",
    "  \\right|\n",
    "  = -\\hat{\\mathbf{a}}_{y}\\frac{\\partial E_z}{\\partial x}.\n",
    " \\label{eq:faradayVec}\n",
    "\\end{equation}\n",
    "\n",
    "Thus $H_y$ must be the only non-zero component of the magnetic field\n",
    "which is time varying.  (Since the right-hand side of this equation\n",
    "has only a $y$ component, the magnetic field may have non-zero\n",
    "components in the $x$ and $z$ directions, but they must be static.  We\n",
    "will not be concerned with static fields here.)  Knowing this,\n",
    "Ampere's law can be written\n",
    "\n",
    "\\begin{equation}\n",
    "  \\epsilon \\frac{\\partial \\mathbf{E}}{\\partial t} =\n",
    "  \\nabla \\times \\mathbf{H} =\n",
    "  \\left|\n",
    "  \\begin{array}{ccc}\n",
    "     \\hat{\\mathbf{a}}_{z} & \\hat{\\mathbf{a}}_{y} & \\hat{\\mathbf{a}}_{z} \\\\\n",
    "     \\frac{\\partial}{\\partial x} & 0 & 0 \\\\\n",
    "     0 & H_y & 0\n",
    "  \\end{array}\n",
    "  \\right|\n",
    "  = \\hat{\\mathbf{a}}_{z}\\frac{\\partial H_y}{\\partial x}.\n",
    " \\label{eq:ampereVec}\n",
    "\\end{equation}\n"
   ]
  },
  {
   "cell_type": "markdown",
   "metadata": {},
   "source": [
    "The two scalar equations obtained from the previous equations are\n",
    "\n",
    "\\begin{eqnarray}\n",
    "  \\mu \\frac{\\partial H_y}{\\partial t} &=&\n",
    "    \\frac{\\partial E_z}{\\partial x},  \\label{eq:faradayScalar}\n",
    "  \\\\\n",
    "  \\epsilon \\frac{\\partial E_z}{\\partial t} &=&\n",
    "    \\frac{\\partial H_y}{\\partial x}. \\label{eq:ampereScalar}\n",
    "\\end{eqnarray}\n",
    "\n",
    "The first equation gives the temporal derivative of the magnetic field\n",
    "in terms of the spatial derivative of the electric field.  Conversely,\n",
    "the second equation gives the temporal derivative of the electric\n",
    "field in terms of the spatial derivative of the magnetic field.  As\n",
    "will be shown, the first equation will be used to advance the magnetic\n",
    "field in time while the second will be used to advance the electric\n",
    "field.  A method in which one field is advanced and then the other,\n",
    "and then the process is repeated, is known as a leap-frog method.\n"
   ]
  },
  {
   "cell_type": "markdown",
   "metadata": {},
   "source": [
    "## Central differencing\n",
    "\n",
    "Consider the\n",
    "Taylor series expansions of the function $f(x)$ expanded about the\n",
    "point $x_0$ with an offset of $\\pm\\delta/2$:\n",
    "\n",
    "\\begin{eqnarray}\n",
    "  f\\!\\left(x_0+\\frac{\\delta}{2}\\right) &=&\n",
    "    f(x_0) + \\frac{\\delta}{2} f'(x_0) +\n",
    "        \\frac{1}{2!}\\left(\\frac{\\delta}{2}\\right)^2 f''(x_0) + \n",
    "        \\frac{1}{3!}\\left(\\frac{\\delta}{2}\\right)^3 f'''(x_0) + \\ldots,\n",
    "  \\\\\n",
    "  f\\!\\left(x_0-\\frac{\\delta}{2}\\right) &=&\n",
    "    f(x_0) - \\frac{\\delta}{2} f'(x_0) +\n",
    "        \\frac{1}{2!}\\left(\\frac{\\delta}{2}\\right)^2 f''(x_0) -\n",
    "        \\frac{1}{3!}\\left(\\frac{\\delta}{2}\\right)^3 f'''(x_0) + \\ldots\n",
    "\\end{eqnarray}\n",
    "\n",
    "where the primes indicate differentiation."
   ]
  },
  {
   "cell_type": "markdown",
   "metadata": {},
   "source": [
    "Subtracting the second\n",
    "equation from the first yields\n",
    "\n",
    "\\begin{equation}\n",
    "  f\\!\\left(x_0+\\frac{\\delta}{2}\\right) -\n",
    "  f\\!\\left(x_0-\\frac{\\delta}{2}\\right) = \n",
    "   \\delta f'(x_0) +\n",
    "        \\frac{2}{3!}\\left(\\frac{\\delta}{2}\\right)^3 f'''(x_0) + \\ldots\n",
    "\\end{equation}\n"
   ]
  },
  {
   "cell_type": "markdown",
   "metadata": {},
   "source": [
    "Dividing by $\\delta$ produces\n",
    "\n",
    "\\begin{equation}\n",
    "  \\frac{f\\!\\left(x_0+\\frac{\\delta}{2}\\right) -\n",
    "        f\\!\\left(x_0-\\frac{\\delta}{2}\\right)}{\\delta} = \n",
    "   f'(x_0) +\n",
    "        \\frac{1}{3!}\\frac{\\delta^2}{2^2} f'''(x_0) + \\ldots\n",
    "\\end{equation}\n"
   ]
  },
  {
   "cell_type": "markdown",
   "metadata": {},
   "source": [
    "Thus the term on the left is equal to the derivative of the function\n",
    "at the point $x_0$ plus a term which depends on $\\delta^2$ plus an\n",
    "infinite number of other terms which are not shown.  For the terms\n",
    "which are not shown, the next would depend on $\\delta^4$ and all\n",
    "subsequent terms would depend on even higher powers of $\\delta$.\n"
   ]
  },
  {
   "cell_type": "markdown",
   "metadata": {},
   "source": [
    "Rearranging slightly, this relationship is often stated as\n",
    "\n",
    "\\begin{equation}\n",
    "  \\left.\\frac{df(x)}{dx}\\right|_{x=x_0} = \n",
    "  \\frac{f\\!\\left(x_0+\\frac{\\delta}{2}\\right) -\n",
    "        f\\!\\left(x_0-\\frac{\\delta}{2}\\right)}{\\delta} + O(\\delta^2).\n",
    "\\end{equation}\n",
    "\n",
    "The \"big-Oh\" term represents all the terms that are not explicitly\n",
    "shown and the value in parentheses, i.e., $\\delta^2$, indicates the\n",
    "lowest order of $\\delta$ in these hidden terms.  If $\\delta$ is\n",
    "sufficiently small, a reasonable approximation to the derivative may\n",
    "be obtained by simply neglecting all the terms represented by the\n",
    "\"big-Oh\" term.\n"
   ]
  },
  {
   "cell_type": "markdown",
   "metadata": {},
   "source": [
    "Thus, the central-difference approximation is given\n",
    "by\n",
    "\n",
    "\\begin{equation}\n",
    "  \\left.\\frac{df(x)}{dx}\\right|_{x=x_0} \\approx\n",
    "  \\frac{f\\!\\left(x_0+\\frac{\\delta}{2}\\right) -\n",
    "        f\\!\\left(x_0-\\frac{\\delta}{2}\\right)}{\\delta}.\n",
    "\\end{equation}\n",
    "\n",
    "Note that the central difference provides an approximation of the\n",
    "derivative of the function at $x_0$, but the function is not actually\n",
    "sampled there.  Instead, the function is sampled at the neighboring\n",
    "points $x_0+\\delta/2$ and $x_0-\\delta/2$.  Since the lowest power of\n",
    "$\\delta$ being ignored is second order, the central difference is said\n",
    "to have second-order accuracy or second-order behavior.  This implies\n",
    "that if $\\delta$ is reduced by a factor of $10$, the error in the\n",
    "approximation should be reduced by a factor of $100$ (at least\n",
    "approximately).  In the limit as $\\delta$ goes to zero, the\n",
    "approximation becomes exact.\n"
   ]
  },
  {
   "cell_type": "markdown",
   "metadata": {},
   "source": [
    "## Applying central differing\n",
    "The next step is to replace the derivatives in\n",
    "the previous equations with finite\n",
    "differences.  To do this, space and time need to be discretized.  The\n",
    "following notation will be used to indicate the location where the\n",
    "fields are sampled in space and time\n",
    "\n",
    "\\begin{eqnarray}\n",
    "  E_z(x,t) \\!&=&\\! E_z(m\\Delta_x, q\\Delta_t) = E_z^{q}\\!\\left[m\\right], \\\\\n",
    "  H_y(x,t) \\!&=&\\! H_y(m\\Delta_x, q\\Delta_t) = H_y^{q}\\!\\left[m\\right],\n",
    "\\end{eqnarray}\n",
    "\n",
    "where $\\Delta_x$ is the spatial offset between sample points and $\\Delta_t$\n",
    "is the temporal offset.  The index $m$ corresponds to the spatial\n",
    "step, effectively the spatial location, while the index $q$\n",
    "corresponds to the temporal step.  When written as a superscript $q$\n",
    "still represents the temporal step---it is not an exponent.  When\n",
    "implementing FDTD algorithms we will see that the spatial indices are\n",
    "used as array indices while the temporal index, which is essentially a\n",
    "global parameter, is not explicitly specified for each field location.\n",
    "Hence, it is reasonable to keep the spatial indices as an explicit\n",
    "argument while indicating the temporal index separately."
   ]
  },
  {
   "cell_type": "markdown",
   "metadata": {},
   "source": [
    "## Gridding\n",
    "Although we only have one spatial dimension, time can be thought of as another dimension. Thus this is effectively a form of two-dimensional problem. The question now is: How should the electric and magnetic field sample points, also known as nodes, be arranged in space and time? The answer is shown in the figure below. The electric-field nodes are shown as circles and the magnetic- field nodes as triangles. Assume that all the fields below the dashed line are known—they are considered to be in the past—while the fields above the dashed line are future fields and hence unknown. The FDTD algorithm provides a way to obtain the future fields from the past fields."
   ]
  },
  {
   "cell_type": "markdown",
   "metadata": {},
   "source": [
    "<figure>\n",
    "  <img src=\"img/fig3_1.png\" />\n",
    "  <figcaption>The arrangement of electric- and magnetic-field nodes in space and time. The electric- field nodes are shown as circles and the magnetic-field nodes as triangles. The indicated point is where the difference equation is expanded to obtain an update equation for $H_y$.</figcaption>\n",
    "</figure>\n"
   ]
  },
  {
   "cell_type": "markdown",
   "metadata": {},
   "source": [
    "Consider Faraday's\n",
    "law at the space-time point $((m+1/2)\\Delta_x,q\\Delta_t)$\n",
    "\n",
    "\\begin{equation}\n",
    "  \\left.\\mu\n",
    "  \\frac{\\partial H_y}{\\partial t}\\right|_{(m+1/2)\\Delta_x,q\\Delta_t}\n",
    "  =\n",
    "  \\left.\\frac{\\partial E_z}{\\partial x}\\right|_{(m+1/2)\\Delta_x,q\\Delta_t}.\n",
    "  \\label{eq:faradayDiscrete}\n",
    "\\end{equation}\n"
   ]
  },
  {
   "cell_type": "markdown",
   "metadata": {},
   "source": [
    "The temporal derivative is replaced by a finite difference involving\n",
    "$H_y^{q+\\frac{1}{2}}\\!\\left[m+\\frac{1}{2}\\right]$ and $H_y^{q-\\frac{1}{2}}\\!\\left[m+\\frac{1}{2}\\right]$\n",
    "(i.e., the magnetic field at a fixed location but two different times)\n",
    "while the spatial derivative is replaced by a finite difference\n",
    "involving $E_z^{q}\\!\\left[m+1\\right]$ and $E_z^{q}\\!\\left[m\\right]$ (i.e., the\n",
    "electric field at two different locations but one time).  This yields\n",
    "\n",
    "\\begin{equation}\n",
    "  \\mu\\frac{H_y^{q+\\frac{1}{2}}\\!\\!\\left[m+\\frac{1}{2}\\right] -\n",
    "           H_y^{q-\\frac{1}{2}}\\!\\!\\left[m+\\frac{1}{2}\\right]} {\\Delta_t} = \n",
    "  \\frac{E_z^{q}\\!\\left[m+1\\right] - E_z^{q}\\!\\left[m\\right]}{\\Delta_x}.\n",
    "  \\label{eq:faradayFdtd1D}\n",
    "\\end{equation}\n"
   ]
  },
  {
   "cell_type": "markdown",
   "metadata": {},
   "source": [
    "Solving this for $H_y^{q+\\frac{1}{2}}\\!\\!\\left[m+\\frac{1}{2}\\right]$ yields:\n",
    "\n",
    "\\begin{equation}\n",
    "  H_y^{q+\\frac{1}{2}}\\!\\!\\left[m+\\frac{1}{2}\\right] = H_y^{q-\\frac{1}{2}}\\!\\!\\left[m+\\frac{1}{2}\\right] +\n",
    "  \\frac{\\Delta_t}{\\mu\\Delta_x}\n",
    "  \\left(E_z^{q}\\!\\left[m+1\\right] - E_z^{q}\\!\\left[m\\right]\\right).\n",
    "  \\label{eq:updateHy}\n",
    "\\end{equation}\n",
    "\n",
    "This is known as an update equation, specifically the update equation\n",
    "for the $H_y$ field.  It is a generic equation which can be applied to\n",
    "any magnetic-field node.  It shows that the future value of $H_y$\n",
    "depends on only its previous value and the neighboring electric\n",
    "fields."
   ]
  },
  {
   "cell_type": "markdown",
   "metadata": {},
   "source": [
    "After applying this equation to all the magnetic-field\n",
    "nodes, the dividing line between future and past values has advanced a\n",
    "half time-step.  The space-time grid thus appears as shown in the figure below which is identical to the figure above  except for the advancement of the past/future\n",
    "dividing line."
   ]
  },
  {
   "cell_type": "markdown",
   "metadata": {},
   "source": [
    "<figure>\n",
    "  <img src=\"img/fig3_2.png\" />\n",
    "  <figcaption>Space-time after updating the magnetic field. The dividing line between future and past values has moved forward a half temporal step. The indicated point is where the difference equation is written to obtain an update equation for $E_z$.</figcaption>\n",
    "</figure>\n",
    "\n"
   ]
  },
  {
   "cell_type": "markdown",
   "metadata": {},
   "source": [
    "Starting with Ampere's law, a smilar update equation for the $E_z$ field can be derived:\n",
    "\n",
    "\\begin{equation}\n",
    "  E_z^{q+1}\\!\\left[m\\right] = E_z^{q}\\!\\left[m\\right] + \n",
    "  \\frac{\\Delta_t}{\\epsilon\\Delta_x}\n",
    "   \\left(H_y^{q+\\frac{1}{2}}\\!\\!\\left[m+\\frac{1}{2}\\right] - H_y^{q+\\frac{1}{2}}\\!\\!\\left[m-\\frac{1}{2}\\right]\\right).\n",
    "\\end{equation}\n",
    "\n",
    "The indices in this equation are generic so that the same\n",
    "equation holds for every $E_z$ node.  Similar to the update equation for\n",
    "the magnetic field, here we see that the future value of $E_z$ depends\n",
    "on only its past value and the value of the neighboring magnetic\n",
    "fields."
   ]
  },
  {
   "cell_type": "markdown",
   "metadata": {},
   "source": [
    "After applying this equation to every electric-field node in the\n",
    "grid, the dividing line between what is known and what is unknown\n",
    "moves forward another one-half temporal step.  One is essentially back\n",
    "to the situation depicted in the first figure: the future\n",
    "fields closest to the dividing line between the future and past are\n",
    "magnetics fields.  They would be updated again, then the electric\n",
    "fields would be updated, and so on."
   ]
  },
  {
   "cell_type": "markdown",
   "metadata": {},
   "source": [
    "## Turning this into a computer program\n",
    "\n",
    "You will have noticed indices are either an integer ($m$) or an integer plus one half ($m+\\frac{1}{2}$). While we coud use these indices in a list in some languages, common practice is to simply to use integers.  If we take the figure above, and compress the time axis so that we just view the space axis, we can pick a standard way to express the indices of the $E_z$ and $H_y$ fields as follows (note that we also need to choose variable names that don't involve subscripts)."
   ]
  },
  {
   "cell_type": "markdown",
   "metadata": {},
   "source": [
    "<figure>\n",
    "  <img src=\"img/1d-program.png\" />\n",
    "  <figcaption>A one-dimensional FDTD space showing the assumed spatial arrangement of the electric- and magnetic-field nodes in the arrays ez and hy. Note that an electric-field node is assumed to exist to the left of the magnetic-field node with the same index.</figcaption>\n",
    "</figure>"
   ]
  },
  {
   "cell_type": "markdown",
   "metadata": {},
   "source": [
    "And the update equations then are:\n",
    "\n",
    "```  hy[m] = hy[m] + (ez[m + 1] - ez[m]) / imp0```\n",
    "\n",
    "and\n",
    "\n",
    "```  ez[m] = ez[m] + (hy[m] - hy[m - 1]) * imp0```\n",
    "\n",
    "```imp0``` is the impedance of free space:\n",
    "$imp_0 = \\frac{E_z}{H_y} = \\mu_0 c_0 = \\sqrt{\\frac{\\mu_0}{\\epsilon_0}} = \\frac{1}{\\epsilon_0 c_0}$\n",
    "\n",
    "\n",
    "where \n",
    "$\\mu_0$ is the magnetic constant,\n",
    "$\\epsilon_0$ is the electric constant,\n",
    "and $c_0$ is the speed of light in free space."
   ]
  },
  {
   "cell_type": "code",
   "execution_count": null,
   "metadata": {},
   "outputs": [],
   "source": []
  }
 ],
 "metadata": {
  "kernelspec": {
   "display_name": "Python 3",
   "language": "python",
   "name": "python3"
  },
  "language_info": {
   "codemirror_mode": {
    "name": "ipython",
    "version": 3
   },
   "file_extension": ".py",
   "mimetype": "text/x-python",
   "name": "python",
   "nbconvert_exporter": "python",
   "pygments_lexer": "ipython3",
   "version": "3.6.4"
  }
 },
 "nbformat": 4,
 "nbformat_minor": 2
}
